{
 "cells": [
  {
   "cell_type": "markdown",
   "id": "19daf3b8",
   "metadata": {},
   "source": [
    "# Review"
   ]
  },
  {
   "cell_type": "code",
   "execution_count": 1,
   "id": "3dfeed5e",
   "metadata": {},
   "outputs": [],
   "source": [
    "import cv2\n",
    "import sys\n",
    "import numpy as np\n",
    "import matplotlib.pyplot as plt\n",
    "\n",
    "import os\n",
    "import glob"
   ]
  },
  {
   "cell_type": "code",
   "execution_count": 3,
   "id": "6ca9e2c6",
   "metadata": {},
   "outputs": [],
   "source": [
    "img = cv2.imread('./fig/cat.bmp')\n",
    "if img is None:\n",
    "    print('image read failed')\n",
    "    sys.exit()\n",
    "    \n",
    "cv2.namedWindow('image')\n",
    "cv2.imshow('image', img)\n",
    "while True:\n",
    "    kw = cv2.waitKey()\n",
    "    if kw==27 or kw==ord('q'):\n",
    "        break\n",
    "        \n",
    "cv2.destroyAllWindows()"
   ]
  },
  {
   "cell_type": "code",
   "execution_count": 5,
   "id": "47e1a76e",
   "metadata": {},
   "outputs": [],
   "source": [
    "img_lists = os.listdir('./fig/my_images/')\n",
    "\n",
    "img_paths = []\n",
    "for img in img_lists:\n",
    "    path = './fig/my_images/' + img\n",
    "    img_paths.append(path)\n",
    "    \n",
    "cv2.namedWindow('scene', cv2.WINDOW_NORMAL)\n",
    "cv2.setWindowProperty('scene', cv2.WND_PROP_FULLSCREEN,\n",
    "                     cv2.WINDOW_FULLSCREEN)\n",
    "idx=0\n",
    "while True:\n",
    "    img = cv2.imread(img_paths[idx])\n",
    "    \n",
    "    if img is None:\n",
    "        print('image read failed')\n",
    "        sys.exit()\n",
    "        \n",
    "    cv2.imshow('scene', img)\n",
    "        \n",
    "    kw=cv2.waitKey(3000)\n",
    "    if kw==27:\n",
    "        break\n",
    "        \n",
    "    idx +=1\n",
    "    if idx>=len(img_paths):\n",
    "        idx=0\n",
    "        \n",
    "cv2.destroyAllWindows() "
   ]
  },
  {
   "cell_type": "code",
   "execution_count": 7,
   "id": "50e1f5e3",
   "metadata": {},
   "outputs": [],
   "source": [
    "src = cv2.imread('./fig/airplane.bmp')\n",
    "mask = cv2.imread('./fig/mask_plane.bmp')\n",
    "dst = cv2.imread('./fig/field.bmp')\n",
    "\n",
    "cv2.copyTo(src, mask, dst)\n",
    "\n",
    "cv2.imshow('src', src)\n",
    "cv2.imshow('mask', mask)\n",
    "cv2.imshow('dst', dst)\n",
    "\n",
    "cv2.waitKey()\n",
    "cv2.destroyAllWindows()"
   ]
  },
  {
   "cell_type": "code",
   "execution_count": 14,
   "id": "c5e5c3af",
   "metadata": {},
   "outputs": [],
   "source": [
    "img = np.full((600,1200,3), 255, np.uint8)\n",
    "\n",
    "cv2.line(img, (50,50), (200,50), (0,0,255), 3)\n",
    "cv2.arrowedLine(img, (200,50), (200,200), (0,0,255), 3)\n",
    "cv2.rectangle(img, (50,300), (100,400), (255,0,0), -1)\n",
    "cv2.rectangle(img, (100,350,100,100), (0,255,0), 4)\n",
    "cv2.circle(img, (500, 300), 100, (0,255,255), 3, cv2.LINE_AA)\n",
    "cv2.putText(img, 'openCV', (450,300), cv2.FONT_HERSHEY_SCRIPT_SIMPLEX,\n",
    "           1, (0,0,0), 2, cv2.LINE_AA)\n",
    "\n",
    "cv2.imshow('canvas', img)\n",
    "\n",
    "cv2.waitKey()\n",
    "cv2.destroyAllWindows()"
   ]
  },
  {
   "cell_type": "code",
   "execution_count": 17,
   "id": "2f1c4f56",
   "metadata": {},
   "outputs": [],
   "source": [
    "cap = cv2.VideoCapture(0)\n",
    "if not cap.isOpened():\n",
    "    print('Video open failed')\n",
    "    sys.exit()\n",
    "    \n",
    "w = int(cap.get(cv2.CAP_PROP_FRAME_WIDTH))\n",
    "h = int(cap.get(cv2.CAP_PROP_FRAME_HEIGHT))\n",
    "fps = int(cap.get(cv2.CAP_PROP_FPS)*0.7)\n",
    "fourcc = cv2.VideoWriter_fourcc(*\"DIVX\")\n",
    "\n",
    "out = cv2.VideoWriter('output20220503.avi', fourcc, fps, (w,h))\n",
    "\n",
    "while True:\n",
    "    ret, frame = cap.read()\n",
    "    if not ret:\n",
    "        print('Video read failed')\n",
    "        break\n",
    "        \n",
    "    out.write(frame)\n",
    "    cv2.imshow('cap', frame)\n",
    "    \n",
    "    if cv2.waitKey(30)==27:\n",
    "        break\n",
    "        \n",
    "cap.release()\n",
    "out.release()\n",
    "cv2.destroyAllWindows()"
   ]
  },
  {
   "cell_type": "code",
   "execution_count": 20,
   "id": "ea091996",
   "metadata": {},
   "outputs": [],
   "source": [
    "def call_mouse(event, x,y, flags, params):\n",
    "    global oldx, oldy\n",
    "    if event==cv2.EVENT_LBUTTONDOWN:\n",
    "        oldx, oldy = x, y\n",
    "    elif event==cv2.EVENT_MOUSEMOVE:\n",
    "        if flags&cv2.EVENT_FLAG_LBUTTON:\n",
    "            cv2.line(img, (oldx,oldy), (x,y), (0,0,255), 3, cv2.LINE_AA)\n",
    "            oldx,oldy = x,y\n",
    "            cv2.imshow('image',img)\n",
    "            \n",
    "img = np.ones((500, 600, 3), np.uint8)*255\n",
    "\n",
    "cv2.imshow('image', img)\n",
    "cv2.setMouseCallback('image', call_mouse, img)\n",
    "\n",
    "cv2.waitKey()\n",
    "cv2.destroyAllWindows()"
   ]
  },
  {
   "cell_type": "code",
   "execution_count": 21,
   "id": "bb903123",
   "metadata": {},
   "outputs": [],
   "source": [
    "def call_track(pos):\n",
    "    img[:] = img1*(pos/255)\n",
    "    cv2.imshow('image', img)\n",
    "\n",
    "img = cv2.imread('./fig/airplane.bmp', 0)\n",
    "if img is None:\n",
    "    print('image read failed')\n",
    "    sys.exit()\n",
    "    \n",
    "img1 = img.copy()\n",
    "\n",
    "cv2.imshow('image', img)\n",
    "cv2.createTrackbar('level', 'image', 0, 255, call_track)\n",
    "\n",
    "cv2.waitKey()\n",
    "cv2.destroyAllWindows()"
   ]
  },
  {
   "cell_type": "code",
   "execution_count": 23,
   "id": "77134937",
   "metadata": {},
   "outputs": [],
   "source": [
    "src1 = cv2.imread('./fig/lenna256.bmp', 0)\n",
    "src2 = np.zeros((256,256), np.uint8)\n",
    "cv2.circle(src2, (128,128), 100, 100, -1)\n",
    "cv2.circle(src2, (128,128), 50, 50, -1)\n",
    "\n",
    "dst1 = cv2.add(src1, src2)\n",
    "dst2 = cv2.addWeighted(src1,0.5, src2,0.5, 0)\n",
    "dst3 = cv2.subtract(src1, src2)\n",
    "dst4 = cv2.absdiff(src1, src2)\n",
    "\n",
    "cv2.imshow('src1', src1)\n",
    "cv2.imshow('src2', src2)\n",
    "cv2.imshow('dst1', dst1)\n",
    "cv2.imshow('dst2', dst2)\n",
    "cv2.imshow('dst3', dst3)\n",
    "cv2.imshow('dst4', dst4)\n",
    "\n",
    "cv2.waitKey()\n",
    "cv2.destroyAllWindows()"
   ]
  },
  {
   "cell_type": "code",
   "execution_count": 25,
   "id": "24cf59f8",
   "metadata": {},
   "outputs": [
    {
     "data": {
      "image/png": "[encoded data removed]",
      "text/plain": [
       "<Figure size 432x288 with 1 Axes>"
      ]
     },
     "metadata": {
      "needs_background": "light"
     },
     "output_type": "display_data"
    }
   ],
   "source": [
    "src = cv2.imread('./fig/flowers.jpg', 0)\n",
    "\n",
    "hist = cv2.calcHist([src], [0], None, [256], [0,256])\n",
    "\n",
    "cv2.imshow('src', src)\n",
    "\n",
    "plt.plot(hist)\n",
    "\n",
    "cv2.waitKey()\n",
    "cv2.destroyAllWindows()"
   ]
  },
  {
   "cell_type": "code",
   "execution_count": 4,
   "id": "0943a865",
   "metadata": {},
   "outputs": [],
   "source": [
    "src = cv2.imread('./fig/puppy_shrink.png',0)\n",
    "src_norm = cv2.normalize(src, None, 0, 255, cv2.NORM_MINMAX)\n",
    "src_equal = cv2.equalizeHist(src)\n",
    "\n",
    "cv2.imshow('src', src)\n",
    "cv2.imshow('norm', src_norm)\n",
    "cv2.imshow('equal', src_equal)\n",
    "\n",
    "cv2.waitKey()\n",
    "cv2.destroyAllWindows()"
   ]
  },
  {
   "cell_type": "code",
   "execution_count": 8,
   "id": "d04f04e6",
   "metadata": {},
   "outputs": [],
   "source": [
    "src = cv2.imread('./fig/spring_in_park.jpg', cv2.IMREAD_REDUCED_COLOR_2)\n",
    "src_hsv = cv2.cvtColor(src, cv2.COLOR_BGR2HSV)\n",
    "\n",
    "h,s,v = cv2.split(src_hsv)\n",
    "\n",
    "v_norm = cv2.normalize(v, None, 0, 255, cv2.NORM_MINMAX)\n",
    "v_equal = cv2.equalizeHist(v)\n",
    "\n",
    "src_norm = cv2.merge((h,s,v_norm))\n",
    "src_equal = cv2.merge((h,s,v_equal))\n",
    "\n",
    "src_norm = cv2.cvtColor(src_norm, cv2.COLOR_HSV2BGR)\n",
    "src_equal = cv2.cvtColor(src_equal, cv2.COLOR_HSV2BGR)\n",
    "\n",
    "cv2.imshow('src', src)\n",
    "cv2.imshow('src_norm', src_norm)\n",
    "cv2.imshow('src_equal', src_equal)\n",
    "\n",
    "cv2.waitKey()\n",
    "cv2.destroyAllWindows()"
   ]
  },
  {
   "cell_type": "code",
   "execution_count": 24,
   "id": "c22f376e",
   "metadata": {},
   "outputs": [],
   "source": [
    "def call_track(pos):\n",
    "    h_min = cv2.getTrackbarPos('h_min', 'src')\n",
    "    h_max = cv2.getTrackbarPos('h_max', 'src')\n",
    "    dst = cv2.inRange(src_hsv, (h_min, 150, 0), (h_max, 255, 255))\n",
    "    cv2.imshow('dst', dst)\n",
    "\n",
    "src = cv2.imread('./fig/palette.png', cv2.IMREAD_REDUCED_COLOR_2)\n",
    "src_hsv = cv2.cvtColor(src, cv2.COLOR_BGR2HSV)\n",
    "\n",
    "# dst_bgr = cv2.inRange(src, (100, 0, 0), (255, 50, 50))\n",
    "# dst_hsv = cv2.inRange(src_hsv, (110, 200, 150), (130, 255, 255))\n",
    "\n",
    "cv2.imshow('src', src)\n",
    "cv2.createTrackbar('h_min', 'src', 0, 179, call_track)\n",
    "cv2.createTrackbar('h_max', 'src', 10, 179, call_track)\n",
    "# cv2.imshow('dst_bgr', dst_bgr)\n",
    "# cv2.imshow('dst_hsv', dst_hsv)\n",
    "\n",
    "cv2.waitKey()\n",
    "cv2.destroyAllWindows()"
   ]
  },
  {
   "cell_type": "markdown",
   "id": "13acf17e",
   "metadata": {},
   "source": [
    "# 2022-05-03\n",
    "## Backprojection"
   ]
  },
  {
   "cell_type": "code",
   "execution_count": 38,
   "id": "df64c42b",
   "metadata": {},
   "outputs": [],
   "source": [
    "src = cv2.imread('./fig/green.png',\n",
    "                 cv2.IMREAD_REDUCED_COLOR_2)\n",
    "src_ycrcb = cv2.cvtColor(src, cv2.COLOR_BGR2YCrCb)\n",
    "\n",
    "x,y,w,h = cv2.selectROI(src)\n",
    "# print(x,y,w,h)\n",
    "crop = src_ycrcb[y:y+h, x:x+w]\n",
    "\n",
    "channels = [1,2]\n",
    "hist_size = [256,256]\n",
    "hist_range = [0,256, 0,256]\n",
    "hist = cv2.calcHist([crop], channels, None,\n",
    "                    hist_size, hist_range)\n",
    "\n",
    "backproj = cv2.calcBackProject([src_ycrcb], channels,\n",
    "                               hist, hist_range, 1)\n",
    "\n",
    "dst = cv2.copyTo(src, backproj)\n",
    "\n",
    "cv2.imshow('src', src)\n",
    "# cv2.imshow('crop', crop)\n",
    "cv2.imshow('backproj', backproj)\n",
    "cv2.imshow('dst', dst)\n",
    "\n",
    "cv2.waitKey()\n",
    "cv2.destroyAllWindows()"
   ]
  },
  {
   "cell_type": "code",
   "execution_count": 34,
   "id": "95e349a1",
   "metadata": {},
   "outputs": [
    {
     "data": {
      "image/png": "[encoded data removed]",
      "text/plain": [
       "<Figure size 432x288 with 1 Axes>"
      ]
     },
     "metadata": {
      "needs_background": "light"
     },
     "output_type": "display_data"
    }
   ],
   "source": [
    "# joint Histogram\n",
    "plt.imshow(hist)\n",
    "plt.show()"
   ]
  },
  {
   "cell_type": "code",
   "execution_count": 89,
   "id": "b8829b00",
   "metadata": {},
   "outputs": [],
   "source": [
    "src = cv2.imread('./fig/cat.bmp',1)\n",
    "if src is None:\n",
    "    print('image read failed')\n",
    "    sys.exit()\n",
    "    \n",
    "src_ycrcb = cv2.cvtColor(src, cv2.COLOR_BGR2YCR_CB)\n",
    "\n",
    "x,y,w,h = cv2.selectROI(src)\n",
    "crop = src_ycrcb[y:y+h, x:x+w]\n",
    "\n",
    "channels = [1,2]\n",
    "hist_size = [256,256]\n",
    "hist_range = [0,256, 0,256]\n",
    "\n",
    "hist = cv2.calcHist([crop], channels, None,\n",
    "                   hist_size, hist_range)\n",
    "backproj = cv2.calcBackProject([src_ycrcb], channels,\n",
    "                               hist, hist_range,1)\n",
    "mask_blur = cv2.GaussianBlur(backproj,(0,0),1)\n",
    "_, mask = cv2.threshold(mask_blur, 10, 255, cv2.THRESH_BINARY)\n",
    "\n",
    "dst = cv2.copyTo(src, mask)\n",
    "\n",
    "cv2.imshow('src',src)\n",
    "cv2.imshow('mask', mask)\n",
    "cv2.imshow('dst',dst)\n",
    "\n",
    "cv2.waitKey()\n",
    "cv2.destroyAllWindows()"
   ]
  },
  {
   "cell_type": "code",
   "execution_count": 73,
   "id": "141c043e",
   "metadata": {},
   "outputs": [],
   "source": [
    "cv2.destroyAllWindows()"
   ]
  },
  {
   "cell_type": "markdown",
   "id": "7df2a810",
   "metadata": {},
   "source": [
    "# Convolution"
   ]
  },
  {
   "cell_type": "code",
   "execution_count": 84,
   "id": "8c184828",
   "metadata": {},
   "outputs": [],
   "source": [
    "## 평균 필터\n",
    "src = cv2.imread('./fig/blue_eyes.png',\n",
    "                cv2.IMREAD_REDUCED_COLOR_2)\n",
    "\n",
    "kernel_3 = np.ones((3,3), np.float32)/9\n",
    "kernel_5 = np.ones((5,5), np.float32)/25\n",
    "\n",
    "dst_3 = cv2.filter2D(src, -1, kernel_3)\n",
    "dst_5 = cv2.filter2D(src, -1, kernel_5)\n",
    "dst_3_blur = cv2.blur(src, (3,3))\n",
    "dst_5_blur = cv2.blur(src, (5,5))\n",
    "\n",
    "cv2.imshow('src',src)\n",
    "cv2.imshow('dst_3',dst_3)\n",
    "cv2.imshow('dst_5',dst_5)\n",
    "cv2.imshow('dst_3_blur',dst_3_blur)\n",
    "cv2.imshow('dst_5_blur',dst_5_blur)\n",
    "\n",
    "\n",
    "cv2.waitKey()\n",
    "cv2.destroyAllWindows()"
   ]
  },
  {
   "cell_type": "code",
   "execution_count": 85,
   "id": "c1735320",
   "metadata": {},
   "outputs": [],
   "source": [
    "src = cv2.imread('./fig/blue_eyes.png',\n",
    "                cv2.IMREAD_REDUCED_COLOR_2)\n",
    "\n",
    "cv2.imshow('src',src)\n",
    "\n",
    "for ksize in (3,5,7,9):\n",
    "    dst = cv2.blur(src, (ksize,ksize))\n",
    "    text = '{}x{}'.format(ksize,ksize)\n",
    "    cv2.putText(dst, text, (30,30), cv2.FONT_HERSHEY_PLAIN,\n",
    "               1, (0,0,255), 2, cv2.LINE_AA)\n",
    "    cv2.imshow('dst', dst)\n",
    "    cv2.waitKey()\n",
    "\n",
    "cv2.destroyAllWindows()"
   ]
  },
  {
   "cell_type": "code",
   "execution_count": 87,
   "id": "f68c5a0e",
   "metadata": {},
   "outputs": [],
   "source": [
    "## 가우시안 필터\n",
    "src = cv2.imread('./fig/blue_eyes.png',\n",
    "                cv2.IMREAD_REDUCED_COLOR_2)\n",
    "\n",
    "dst_blur = cv2.blur(src, (5,5))\n",
    "dst_gaussian = cv2.GaussianBlur(src, (0,0), 1)\n",
    "\n",
    "cv2.imshow('src',src)\n",
    "cv2.imshow('dst_blur', dst_blur)\n",
    "cv2.imshow('dst_gaussian', dst_gaussian)\n",
    "\n",
    "cv2.waitKey()\n",
    "cv2.destroyAllWindows()"
   ]
  },
  {
   "cell_type": "code",
   "execution_count": 92,
   "id": "1dcbf09c",
   "metadata": {},
   "outputs": [],
   "source": [
    "# 잡음제거 필터(Median filter)\n",
    "src = cv2.imread('./fig/blue_eyes.png',\n",
    "                 cv2.IMREAD_REDUCED_GRAYSCALE_2)\n",
    "\n",
    "\n",
    "salt_pepper_noise1 = np.random.choice((0,255), src.shape,\n",
    "                                     p = (0.99, 0.01))\n",
    "salt_pepper_noise2 = np.random.choice((0,255), src.shape,\n",
    "                                      p = (0.99, 0.01))\n",
    "\n",
    "src_noise =src + salt_pepper_noise1 - salt_pepper_noise2\n",
    "src_noise = np.clip(src_noise,0,255).astype(np.uint8)\n",
    "\n",
    "dst = cv2.medianBlur(src_noise, 3)\n",
    "\n",
    "cv2.imshow('src', src)\n",
    "cv2.imshow('src_noise', src_noise)\n",
    "cv2.imshow('dst', dst)\n",
    "                                      \n",
    "cv2.waitKey()\n",
    "cv2.destroyAllWindows()"
   ]
  },
  {
   "cell_type": "markdown",
   "id": "80c2aa2f",
   "metadata": {},
   "source": [
    "# bilateral filter"
   ]
  },
  {
   "cell_type": "code",
   "execution_count": 97,
   "id": "d18ae0d0",
   "metadata": {},
   "outputs": [],
   "source": [
    "src = cv2.imread('./fig/blue_eyes.png',cv2.IMREAD_REDUCED_GRAYSCALE_2)\n",
    "\n",
    "dst_gaussian = cv2.GaussianBlur(src, (0,0), 5.0)\n",
    "\n",
    "dst_bilateral = cv2.bilateralFilter(src, -1, 10, 5.0)\n",
    "\n",
    "cv2.imshow('src', src)\n",
    "cv2.imshow('dst_gaussian', dst_gaussian)\n",
    "cv2.imshow('dst_bilateral', dst_bilateral)\n",
    "\n",
    "cv2.waitKey()\n",
    "cv2.destroyAllWindows()"
   ]
  },
  {
   "cell_type": "code",
   "execution_count": 99,
   "id": "bced02df",
   "metadata": {},
   "outputs": [],
   "source": [
    "src = cv2.imread('./fig/PD_MRI.jpeg',0)\n",
    "\n",
    "dst_gaussian = cv2.GaussianBlur(src, (0,0), 3)\n",
    "\n",
    "dst_bilateral = cv2.bilateralFilter(src, -1, 10, 3)\n",
    "\n",
    "cv2.imshow('src', src)\n",
    "cv2.imshow('gaussian', dst_gaussian)\n",
    "cv2.imshow('bilateral', dst_bilateral)\n",
    "\n",
    "cv2.waitKey()\n",
    "cv2.destroyAllWindows()"
   ]
  },
  {
   "cell_type": "markdown",
   "id": "dd5b20fe",
   "metadata": {},
   "source": [
    "# sobel filter"
   ]
  },
  {
   "cell_type": "code",
   "execution_count": 111,
   "id": "3fff80a4",
   "metadata": {},
   "outputs": [],
   "source": [
    "src = cv2.imread('./fig/son.jpg', 0)\n",
    "\n",
    "dx = cv2.Sobel(src, cv2.CV_32F, 1, 0, delta=128)\n",
    "dy = cv2.Sobel(src, cv2.CV_32F, 0, 1, delta=128)\n",
    "mag = np.clip(cv2.magnitude(dx,dy),0,255).astype(np.uint8)\n",
    "_, thres = cv2.threshold(mag, 230, 255, cv2.THRESH_BINARY)\n",
    "\n",
    "cv2.imshow('src', src)\n",
    "cv2.imshow('mag', mag)\n",
    "cv2.imshow('thres', thres)\n",
    "cv2.waitKey()\n",
    "cv2.destroyAllWindows()"
   ]
  },
  {
   "cell_type": "code",
   "execution_count": 120,
   "id": "793cc1c3",
   "metadata": {},
   "outputs": [],
   "source": [
    "src = cv2.imread('./fig/son.jpg')\n",
    "\n",
    "gaussian = cv2.GaussianBlur(src, (0,0), 1)\n",
    "edge = 255 - cv2.Canny(src, 100, 200)\n",
    "edge = cv2.cvtColor(edge, cv2.COLOR_GRAY2BGR)\n",
    "\n",
    "dst = cv2.bitwise_and(gaussian, edge)\n",
    "\n",
    "cv2.imshow('src', src)\n",
    "cv2.imshow('gaussian', gaussian)\n",
    "cv2.imshow('edge', edge)\n",
    "cv2.imshow('dst', dst)\n",
    "\n",
    "cv2.waitKey()\n",
    "cv2.destroyAllWindows()"
   ]
  },
  {
   "cell_type": "code",
   "execution_count": 129,
   "id": "4b674784",
   "metadata": {},
   "outputs": [],
   "source": [
    "src = cv2.imread('./fig/cat.bmp')\n",
    "\n",
    "gaussian = cv2.bilateralFilter(src, -1, 10, 1)\n",
    "edge = 255 - cv2.Canny(src, 180, 200)\n",
    "edge = cv2.cvtColor(edge, cv2.COLOR_GRAY2BGR)\n",
    "\n",
    "dst = cv2.bitwise_and(gaussian, edge)\n",
    "\n",
    "cv2.imshow('src', src)\n",
    "cv2.imshow('edge', edge)\n",
    "cv2.imshow('dst', dst)\n",
    "\n",
    "cv2.waitKey()\n",
    "cv2.destroyAllWindows()"
   ]
  },
  {
   "cell_type": "code",
   "execution_count": 131,
   "id": "0a0e8aa8",
   "metadata": {},
   "outputs": [
    {
     "name": "stdout",
     "output_type": "stream",
     "text": [
      "7.0318000000000005 ms\n"
     ]
    }
   ],
   "source": [
    "src = cv2.imread('./fig/cat.bmp')\n",
    "\n",
    "time = cv2.TickMeter()\n",
    "time.start()\n",
    "\n",
    "\n",
    "gaussian = cv2.bilateralFilter(src, -1, 10, 1)\n",
    "edge = 255 - cv2.Canny(src, 180, 200)\n",
    "edge = cv2.cvtColor(edge, cv2.COLOR_GRAY2BGR)\n",
    "\n",
    "dst = cv2.bitwise_and(gaussian, edge)\n",
    "\n",
    "time.stop()\n",
    "print(time.getTimeMilli(),'ms')\n",
    "\n",
    "cv2.imshow('src', src)\n",
    "cv2.imshow('edge', edge)\n",
    "cv2.imshow('dst', dst)\n",
    "\n",
    "cv2.waitKey()\n",
    "cv2.destroyAllWindows()"
   ]
  },
  {
   "cell_type": "code",
   "execution_count": 135,
   "id": "1e7fc7d1",
   "metadata": {},
   "outputs": [],
   "source": [
    "src = cv2.imread('./fig/puppy.bmp')\n",
    "\n",
    "M = np.array([[1,0,100],\n",
    "             [0,1,-100]], dtype=np.float32)\n",
    "dst = cv2.warpAffine(src, M, (0,0))\n",
    "\n",
    "cv2.imshow('src', src)\n",
    "cv2.imshow('dst', dst)\n",
    "cv2.waitKey()\n",
    "cv2.destroyAllWindows()"
   ]
  },
  {
   "cell_type": "code",
   "execution_count": 142,
   "id": "b787b4ab",
   "metadata": {},
   "outputs": [
    {
     "name": "stdout",
     "output_type": "stream",
     "text": [
      "(461, 600, 3)\n"
     ]
    }
   ],
   "source": [
    "src = cv2.imread('./fig/rose.jpg')\n",
    "print(src.shape)\n",
    "dst1 = cv2.resize(src, (900, 700), interpolation = cv2.INTER_NEAREST)\n",
    "dst2 = cv2.resize(src, (900, 700), interpolation = cv2.INTER_LINEAR)\n",
    "dst3 = cv2.resize(src, (900, 700), interpolation = cv2.INTER_CUBIC)\n",
    "dst4 = cv2.resize(src, (900, 700), interpolation = cv2.INTER_LANCZOS4)\n",
    "\n",
    "cv2.imshow('src', src)\n",
    "cv2.imshow('dst1', dst1)\n",
    "cv2.imshow('dst2', dst2)\n",
    "cv2.imshow('dst3', dst3)\n",
    "cv2.imshow('dst4', dst4)\n",
    "\n",
    "cv2.waitKey()\n",
    "cv2.destroyAllWindows()"
   ]
  },
  {
   "cell_type": "code",
   "execution_count": 146,
   "id": "f03b02e4",
   "metadata": {},
   "outputs": [],
   "source": [
    "src = cv2.imread('./fig/puppy.bmp')\n",
    "\n",
    "# rad = 20*np.pi/180\n",
    "# M = np.array([[np.cos(rad), np.sin(rad), 0],\n",
    "#              [-np.sin(rad), np.cos(rad), 0]], dtype=np.float32)\n",
    "h,w = src.shape[:2]\n",
    "cp = (w/2, h/2)\n",
    "M = cv2.getRotationMatrix2D(cp, -20, 1)\n",
    "\n",
    "dst = cv2.warpAffine(src, M, (0,0))\n",
    "\n",
    "cv2.imshow('src', src)\n",
    "cv2.imshow('dst', dst)\n",
    "cv2.waitKey()\n",
    "cv2.destroyAllWindows()"
   ]
  },
  {
   "cell_type": "code",
   "execution_count": 163,
   "id": "d7238c3e",
   "metadata": {},
   "outputs": [],
   "source": [
    "src = cv2.imread('./fig/puppy.bmp')\n",
    "\n",
    "M = np.array([[1,0,0],\n",
    "             [0.2,1,0]], dtype=np.float32)\n",
    "h,w = src.shape[:2]\n",
    "dst = cv2.warpAffine(src, M, (w, int(w*0.2)+h))\n",
    "\n",
    "cv2.imshow('src', src)\n",
    "cv2.imshow('dst', dst)\n",
    "cv2.waitKey()\n",
    "cv2.destroyAllWindows()"
   ]
  },
  {
   "cell_type": "code",
   "execution_count": 164,
   "id": "6c12dd72",
   "metadata": {},
   "outputs": [],
   "source": [
    "src = cv2.imread('./fig/checkerboard.png')\n",
    "\n",
    "h,w = src.shape[:2]\n",
    "\n",
    "src_point = np.array([[217,50],[691,47],[830,517],[67,526]],\n",
    "                     dtype = np.float32)\n",
    "dst_point = np.array([[0,0],[w-1,0],[w-1,h-1],[0,h-1]],\n",
    "                     dtype = np.float32)\n",
    "\n",
    "pers = cv2.getPerspectiveTransform(src_point, dst_point)\n",
    "dst = cv2.warpPerspective(src, pers, (w,h))\n",
    "\n",
    "cv2.imshow('src', src)\n",
    "cv2.imshow('dst', dst)\n",
    "\n",
    "cv2.waitKey()\n",
    "cv2.destroyAllWindows()"
   ]
  }
 ],
 "metadata": {
  "kernelspec": {
   "display_name": "base",
   "language": "python",
   "name": "base"
  },
  "language_info": {
   "codemirror_mode": {
    "name": "ipython",
    "version": 3
   },
   "file_extension": ".py",
   "mimetype": "text/x-python",
   "name": "python",
   "nbconvert_exporter": "python",
   "pygments_lexer": "ipython3",
   "version": "3.9.7"
  }
 },
 "nbformat": 4,
 "nbformat_minor": 5
}
